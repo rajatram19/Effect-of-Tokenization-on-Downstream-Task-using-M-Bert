{
  "cells": [
    {
      "cell_type": "code",
      "execution_count": null,
      "metadata": {
        "id": "x_UupTLBYJNi"
      },
      "outputs": [],
      "source": [
        "#!pip install transformers"
      ]
    },
    {
      "cell_type": "code",
      "execution_count": null,
      "metadata": {
        "id": "8idArMt2X8vq"
      },
      "outputs": [],
      "source": [
        "import pandas as pd\n",
        "import csv\n",
        "from collections import defaultdict\n",
        "from transformers import AutoTokenizer"
      ]
    },
    {
      "cell_type": "code",
      "execution_count": null,
      "metadata": {
        "id": "juqjon5jYP9Q"
      },
      "outputs": [],
      "source": [
        "tokenizer = AutoTokenizer.from_pretrained(\"bert-base-multilingual-cased\")\n",
        "vocab_dic = tokenizer.vocab.keys()"
      ]
    },
    {
      "cell_type": "code",
      "execution_count": null,
      "metadata": {
        "id": "uiOVrblbYYKf"
      },
      "outputs": [],
      "source": [
        "stop_word = set()\n",
        "with open('bengaliST.txt','r',encoding=\"utf8\") as rd:\n",
        "  while True:\n",
        "    line = rd.readline()\n",
        "    if line == '':\n",
        "      break\n",
        "    stop_word.add(line.strip())"
      ]
    },
    {
      "cell_type": "code",
      "execution_count": null,
      "metadata": {
        "id": "ciOyOrDdYZNr",
        "outputId": "a02ef097-6d62-426c-9b2c-61b258560491"
      },
      "outputs": [
        {
          "data": {
            "text/html": [
              "<div>\n",
              "<style scoped>\n",
              "    .dataframe tbody tr th:only-of-type {\n",
              "        vertical-align: middle;\n",
              "    }\n",
              "\n",
              "    .dataframe tbody tr th {\n",
              "        vertical-align: top;\n",
              "    }\n",
              "\n",
              "    .dataframe thead th {\n",
              "        text-align: right;\n",
              "    }\n",
              "</style>\n",
              "<table border=\"1\" class=\"dataframe\">\n",
              "  <thead>\n",
              "    <tr style=\"text-align: right;\">\n",
              "      <th></th>\n",
              "      <th>entertainment</th>\n",
              "      <th>প্রজাপতি প্রজাপতি আমার ইচ্ছে হয়ে, বনে বনে ঘাসে ঘাসে ওড়ে আর ফেরে...\\nসেই সুর যা ফিরিয়ে দেয় শৈশবের সুগন্ধ। সবিতা চৌধুরী। যাঁর কণ্ঠ অপূর্ব সব গানগুচ্ছ উপহার দিয়েছে সব প্রজন্মের গানপ্রেমীদের। দুরারোগ্য কর্কটরোগে আক্রান্ত সেদিনের সবিতা। গত কয়েক বছর ধরে নিরন্তর লড়াইয়ের পর এখন প্রহর গুনছেন । যেকোনও দিনই আসতে পারে সেই ভয়ঙ্কর দিনটি।\\nএখন তাঁর বড় মেয়ে অন্তরা চৌধুরীর কাছেই আছেন তিনি। রুবি হাসপাতালের খুব কাছেই বড় মেয়ের কাছেই কাটাতে চান জীবনের শেষ কয়েকটি দিন। আজই এবেলা.ইন কে জানালেন অন্তরা।\\nস্বামী সলিল চৌধুরীর অনুরোধেই প্রথম অ্যালবামে গাওয়া গান মরি হায় গো হায়। সবিতার কণ্ঠস্বরের জাদুতে সেই গান শাশ্বত হয়ে আছে। \\nএখন এই আনন্দের শহরে একলা শুয়ে সবিতা। সুরের সেই ঝর-ঝর-ঝরণা যে আজ নিরুচ্চার</th>\n",
              "    </tr>\n",
              "  </thead>\n",
              "  <tbody>\n",
              "    <tr>\n",
              "      <th>0</th>\n",
              "      <td>state</td>\n",
              "      <td>দীর্ঘ সাত মাসের প্রতীক্ষার পর সোমবার সকালে এসে...</td>\n",
              "    </tr>\n",
              "    <tr>\n",
              "      <th>1</th>\n",
              "      <td>state</td>\n",
              "      <td>দিঘার হোটেল থেকে উদ্ধার হল যুবক-যুবতীর ঝুলন্ত ...</td>\n",
              "    </tr>\n",
              "    <tr>\n",
              "      <th>2</th>\n",
              "      <td>sports</td>\n",
              "      <td>কিছুদিন আগেই রাজ্যের গাইড বনে গিয়েছিলেন চেতেশ্...</td>\n",
              "    </tr>\n",
              "    <tr>\n",
              "      <th>3</th>\n",
              "      <td>national</td>\n",
              "      <td>মারুতির কারখানায় হামলা এবং ম্যানেজারকে পুড়িয়ে...</td>\n",
              "    </tr>\n",
              "    <tr>\n",
              "      <th>4</th>\n",
              "      <td>kolkata</td>\n",
              "      <td>ভোরবেলায় শিউলির আদুরে গন্ধ, আকাশে পেজা তুলোর ম...</td>\n",
              "    </tr>\n",
              "  </tbody>\n",
              "</table>\n",
              "</div>"
            ],
            "text/plain": [
              "  entertainment  \\\n",
              "0         state   \n",
              "1         state   \n",
              "2        sports   \n",
              "3      national   \n",
              "4       kolkata   \n",
              "\n",
              "  প্রজাপতি প্রজাপতি আমার ইচ্ছে হয়ে, বনে বনে ঘাসে ঘাসে ওড়ে আর ফেরে...\\nসেই সুর যা ফিরিয়ে দেয় শৈশবের সুগন্ধ। সবিতা চৌধুরী। যাঁর কণ্ঠ অপূর্ব সব গানগুচ্ছ উপহার দিয়েছে সব প্রজন্মের গানপ্রেমীদের। দুরারোগ্য কর্কটরোগে আক্রান্ত সেদিনের সবিতা। গত কয়েক বছর ধরে নিরন্তর লড়াইয়ের পর এখন প্রহর গুনছেন । যেকোনও দিনই আসতে পারে সেই ভয়ঙ্কর দিনটি।\\nএখন তাঁর বড় মেয়ে অন্তরা চৌধুরীর কাছেই আছেন তিনি। রুবি হাসপাতালের খুব কাছেই বড় মেয়ের কাছেই কাটাতে চান জীবনের শেষ কয়েকটি দিন। আজই এবেলা.ইন কে জানালেন অন্তরা।\\nস্বামী সলিল চৌধুরীর অনুরোধেই প্রথম অ্যালবামে গাওয়া গান মরি হায় গো হায়। সবিতার কণ্ঠস্বরের জাদুতে সেই গান শাশ্বত হয়ে আছে। \\nএখন এই আনন্দের শহরে একলা শুয়ে সবিতা। সুরের সেই ঝর-ঝর-ঝরণা যে আজ নিরুচ্চার  \n",
              "0  দীর্ঘ সাত মাসের প্রতীক্ষার পর সোমবার সকালে এসে...                                                                                                                                                                                                                                                                                                                                                                                                                                                                                                                                                                                                                                                           \n",
              "1  দিঘার হোটেল থেকে উদ্ধার হল যুবক-যুবতীর ঝুলন্ত ...                                                                                                                                                                                                                                                                                                                                                                                                                                                                                                                                                                                                                                                           \n",
              "2  কিছুদিন আগেই রাজ্যের গাইড বনে গিয়েছিলেন চেতেশ্...                                                                                                                                                                                                                                                                                                                                                                                                                                                                                                                                                                                                                                                           \n",
              "3  মারুতির কারখানায় হামলা এবং ম্যানেজারকে পুড়িয়ে...                                                                                                                                                                                                                                                                                                                                                                                                                                                                                                                                                                                                                                                           \n",
              "4  ভোরবেলায় শিউলির আদুরে গন্ধ, আকাশে পেজা তুলোর ম...                                                                                                                                                                                                                                                                                                                                                                                                                                                                                                                                                                                                                                                           "
            ]
          },
          "execution_count": 28,
          "metadata": {},
          "output_type": "execute_result"
        }
      ],
      "source": [
        "df_train = pd.read_csv('bn-train.csv') #header if any ex. names=['Label','Data']\n",
        "df_train.head()"
      ]
    },
    {
      "cell_type": "code",
      "execution_count": null,
      "metadata": {
        "id": "DJ73ZYEoYwFE"
      },
      "outputs": [],
      "source": [
        "with open('new.csv','w',encoding=\"utf8\") as wr:\n",
        "  for idx in range(len(df_train.index)):\n",
        "    wr.write(df_train.iloc[idx,1]+'\\t'+df_train.iloc[idx,0]+'\\n')"
      ]
    },
    {
      "cell_type": "code",
      "execution_count": null,
      "metadata": {
        "id": "pKf8c0wPY54T",
        "outputId": "10490e52-0017-4126-8a89-df8453aec98e"
      },
      "outputs": [
        {
          "ename": "ValueError",
          "evalue": "not enough values to unpack (expected 2, got 1)",
          "output_type": "error",
          "traceback": [
            "\u001b[1;31m---------------------------------------------------------------------------\u001b[0m",
            "\u001b[1;31mValueError\u001b[0m                                Traceback (most recent call last)",
            "\u001b[1;32m~\\AppData\\Local\\Temp/ipykernel_10124/4269714417.py\u001b[0m in \u001b[0;36m<module>\u001b[1;34m\u001b[0m\n\u001b[0;32m     15\u001b[0m     \u001b[1;32mif\u001b[0m \u001b[0mline\u001b[0m \u001b[1;33m==\u001b[0m \u001b[1;34m''\u001b[0m\u001b[1;33m:\u001b[0m\u001b[1;33m\u001b[0m\u001b[1;33m\u001b[0m\u001b[0m\n\u001b[0;32m     16\u001b[0m       \u001b[1;32mbreak\u001b[0m\u001b[1;33m\u001b[0m\u001b[1;33m\u001b[0m\u001b[0m\n\u001b[1;32m---> 17\u001b[1;33m     \u001b[0msen\u001b[0m\u001b[1;33m,\u001b[0m\u001b[0m_\u001b[0m \u001b[1;33m=\u001b[0m \u001b[0mline\u001b[0m\u001b[1;33m.\u001b[0m\u001b[0mstrip\u001b[0m\u001b[1;33m(\u001b[0m\u001b[1;33m)\u001b[0m\u001b[1;33m.\u001b[0m\u001b[0msplit\u001b[0m\u001b[1;33m(\u001b[0m\u001b[1;34m'\\t'\u001b[0m\u001b[1;33m)\u001b[0m\u001b[1;33m\u001b[0m\u001b[1;33m\u001b[0m\u001b[0m\n\u001b[0m\u001b[0;32m     18\u001b[0m     \u001b[0mword_list\u001b[0m \u001b[1;33m=\u001b[0m \u001b[0msen\u001b[0m\u001b[1;33m.\u001b[0m\u001b[0msplit\u001b[0m\u001b[1;33m(\u001b[0m\u001b[1;33m)\u001b[0m\u001b[1;33m\u001b[0m\u001b[1;33m\u001b[0m\u001b[0m\n\u001b[0;32m     19\u001b[0m     \u001b[1;32mfor\u001b[0m \u001b[0mw\u001b[0m \u001b[1;32min\u001b[0m \u001b[0mword_list\u001b[0m\u001b[1;33m:\u001b[0m\u001b[1;33m\u001b[0m\u001b[1;33m\u001b[0m\u001b[0m\n",
            "\u001b[1;31mValueError\u001b[0m: not enough values to unpack (expected 2, got 1)"
          ]
        }
      ],
      "source": [
        "import re\n",
        "start = 0x0980 #0x0980(bn)   #https://www.ling.upenn.edu/courses/Spring_2003/ling538/UnicodeRanges.html\n",
        "end =  0x09FF #0x09ff(bn)\n",
        "\n",
        "unicode_re = re.compile(r'^(##)*[\\U{0:08X}-\\U{1:08X}\\d]*'\n",
        "                         r'[\\U{0:08X}-\\U{1:08X}]+'\n",
        "                         r'[\\U{0:08X}-\\U{1:08}\\d]*$'.format(start, end))\n",
        "train_word,test_word = set(),set()\n",
        "train_word_count,test_word_count = defaultdict(int),defaultdict(int)\n",
        "token_split_count_dic = defaultdict(int)\n",
        "exception_vocab = set()\n",
        "with open('new.csv','r',encoding=\"utf-8\") as rd:\n",
        "  while True:\n",
        "    line = rd.readline()\n",
        "    if line == '':\n",
        "      break\n",
        "    sen,_ = line.strip().split('\\t')\n",
        "    word_list = sen.split()\n",
        "    for w in word_list:\n",
        "      if unicode_re.match(w):\n",
        "        if w in stop_word or w in vocab_dic:\n",
        "          continue\n",
        "        token_list = tokenizer.tokenize(w)\n",
        "        token_list_filter = [t.replace('##','') for t in token_list]\n",
        "        max_token = max(token_list_filter,key=len)\n",
        "        token_split_count_dic[len(max_token)/len(w)] +=1\n",
        "        if len(max_token)/len(w)>1:\n",
        "          exception_vocab.add(w)\n",
        "        if len(max_token)/len(w) >= 0.75 and '[UNK]' not in token_list:\n",
        "          continue\n",
        "        train_word.add(w)\n",
        "        train_word_count[w] +=1"
      ]
    },
    {
      "cell_type": "code",
      "execution_count": null,
      "metadata": {
        "id": "FfkI-t-oZLsw"
      },
      "outputs": [],
      "source": [
        "with open([need to translate vocab file name],'w') as wr:\n",
        "  for item in train_word:\n",
        "    wr.write(item+'\\n')"
      ]
    },
    {
      "cell_type": "code",
      "execution_count": null,
      "metadata": {
        "id": "ozznXMjgZcuj"
      },
      "outputs": [],
      "source": [
        "##########replace translated words###############"
      ]
    },
    {
      "cell_type": "code",
      "execution_count": null,
      "metadata": {
        "id": "JOw1JN1IZtmR"
      },
      "outputs": [],
      "source": [
        "vocab_dic = {}\n",
        "with open(trans_file_name,'r') as rd:\n",
        "  while True:\n",
        "    line = rd.readline()\n",
        "    if line == '':\n",
        "      break\n",
        "    try:\n",
        "      wrd,re_wrd = line.strip().split('\\t')[:2]  \n",
        "    except:\n",
        "      continue\n",
        "    vocab_dic[wrd] = re_wrd  \n",
        "\n",
        "df = pd.read_csv(input_file,names=['Label','Data'])\n",
        "final_list = []\n",
        "for idx,row in df.iterrows():\n",
        "  sen = row['Data']\n",
        "  label = row['Label']\n",
        "  tmp_list = []\n",
        "  for w in sen.split():\n",
        "    if w in vocab_dic:\n",
        "      tmp_list.append(vocab_dic[w])\n",
        "    else:\n",
        "      tmp_list.append(w)\n",
        "  listToStr = ' '.join(map(str, tmp_list))\n",
        "  final_list.append([label,listToStr])\n",
        "\n",
        "with open(output_file, 'w', encoding='UTF8', newline='') as f:\n",
        "    writer = csv.writer(f)\n",
        "\n",
        "    # write the header\n",
        "    #writer.writerow(header)\n",
        "\n",
        "    # write multiple rows\n",
        "    writer.writerows(final_list)"
      ]
    }
  ],
  "metadata": {
    "colab": {
      "name": "code for filtering and replacing translated words.ipynb",
      "provenance": [],
      "collapsed_sections": []
    },
    "kernelspec": {
      "display_name": "Python 3 (ipykernel)",
      "language": "python",
      "name": "python3"
    },
    "language_info": {
      "codemirror_mode": {
        "name": "ipython",
        "version": 3
      },
      "file_extension": ".py",
      "mimetype": "text/x-python",
      "name": "python",
      "nbconvert_exporter": "python",
      "pygments_lexer": "ipython3",
      "version": "3.9.7"
    }
  },
  "nbformat": 4,
  "nbformat_minor": 0
}